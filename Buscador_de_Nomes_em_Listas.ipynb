{
  "nbformat": 4,
  "nbformat_minor": 0,
  "metadata": {
    "colab": {
      "provenance": [],
      "authorship_tag": "ABX9TyNt2QoQzS2gPoHptR5az6xI",
      "include_colab_link": true
    },
    "kernelspec": {
      "name": "python3",
      "display_name": "Python 3"
    },
    "language_info": {
      "name": "python"
    }
  },
  "cells": [
    {
      "cell_type": "markdown",
      "metadata": {
        "id": "view-in-github",
        "colab_type": "text"
      },
      "source": [
        "<a href=\"https://colab.research.google.com/github/Shaffer443/InterfaceGraficaPython/blob/busca_nas_listas/Buscador_de_Nomes_em_Listas.ipynb\" target=\"_parent\"><img src=\"https://colab.research.google.com/assets/colab-badge.svg\" alt=\"Open In Colab\"/></a>"
      ]
    },
    {
      "cell_type": "markdown",
      "source": [
        "#Buscador de Nomes em Listas\n",
        "\n",
        "Buscar e selecionar um nome dentro de um lista inicial onde se habilitará, dependendo da seleção há outras opções de acordo com o nome selecionado.\n",
        "\n",
        "torneio -> habilitará certos times."
      ],
      "metadata": {
        "id": "r89ZoFS_rcRd"
      }
    },
    {
      "cell_type": "code",
      "source": [
        "torneios = [\"Bundesliga Alemã\",\n",
        "\"Itália Serie A\",\n",
        "\"Campeonato Brasileiro\",\n",
        "\"Premier League\",\n",
        "\"Espanha-La Liga\",\n",
        "\"Itália-Série A\",\n",
        "\"Copa do Nordeste\",\n",
        "\"Bundesliga 2 Alemã\",\n",
        "\"Holanda-Eredivisie\",\n",
        "\"Portugal-Primeira Liga\",\n",
        "\"Escócia-Premiership\",\n",
        "\"Inglaterra Premier League\",\n",
        "\"UEFA Champions League\",\n",
        "\"Brasileiro Série B\",\n",
        "\"Brasileiro Série A\",\n",
        "\"UEFA Liga Europa\",\n",
        "\"UEFA Europa Conference League\",\n",
        "\"Copa Do Brasil\",\n",
        "\"Copa da Itália\",\n",
        "\"CONMEBOL Sudamericana\",\n",
        "\"CONMEBOL Libertadores\",\n",
        "\"Liga Conferência Europa\",\n",
        "\"UEFA Liga Das Nações\",\n",
        "\"UEFA Euro Eliminatórias\",\n",
        "\"Capa do Mundo da FIFA Feminino\",\n",
        "\"Inglaterra Community Shield\",\n",
        "\"Amistoso de Elite\",\n",
        "\"UEFA Liga dos Campeões Eliminatórias\",\n",
        "\"Portugal Supertaça\",\n",
        "\"Copa da Alemanha\",\n",
        "\"Alemanha Supertaça\",\n",
        "\"UEFA Supertaça\",\n",
        "\"Liga Profissional da Arábia Saudita\",\n",
        "\"França-Ligue 1\",\n",
        "\"Inglaterra Copa da Liga\",\n",
        "\"UEFA Liga Conferência Europa Classificatórias\",\n",
        "\"UEFA Europa Conference League Classificatórias\",\n",
        "\"Itália Serie B\",\n",
        "\"Torneio Não Listado\"]"
      ],
      "metadata": {
        "id": "IP0auL2DtG3F"
      },
      "execution_count": 1,
      "outputs": []
    },
    {
      "cell_type": "code",
      "source": [
        "#Times:\n",
        "\n",
        "BundesligaAlemã =['FC Heidenheim 1846',\n",
        "\n",
        "'Augsburg',\n",
        "\n",
        "'Bayer Leverkusen',\n",
        "\n",
        "'Bayern de Munique',\n",
        "\n",
        "'Borussia Dortmund',\n",
        "\n",
        "'Borussia Monchengladbach',\n",
        "\n",
        "'Colônia',\n",
        "\n",
        "'Eintracht Frankfurt',\n",
        "\n",
        "'Freiburg',\n",
        "\n",
        "'Hoffenheim',\n",
        "\n",
        "'Mainz',\n",
        "\n",
        "'RB Leipzig',\n",
        "\n",
        "'SV Darmstadt 98',\n",
        "\n",
        "'Union Berlin',\n",
        "\n",
        "'VfB Stuttgart',\n",
        "\n",
        "'VfL Bochum',\n",
        "\n",
        "'Werder Bremen',\n",
        "\n",
        "'Wolfsburg']"
      ],
      "metadata": {
        "id": "_8ID2Co-zUky"
      },
      "execution_count": 9,
      "outputs": []
    },
    {
      "cell_type": "code",
      "source": [
        "#Funções\n",
        "\n",
        "def listando(nome):\n",
        "  emOrdem = sorted(nome)\n",
        "  cont = 1\n",
        "  for dados in emOrdem:\n",
        "    print(f\"{cont} - {dados}\")\n",
        "    cont += 1\n",
        "\n",
        "def incluso(nome):\n",
        "  if nome in listaTorneioEmOrdem:\n",
        "    print(f\"\\n>>>{nome} foi encontrado uma lista.\")\n",
        "    return True\n",
        "  else:\n",
        "    print(f\"\\n>>>{nome} não foi encontrado na lista.\")\n",
        "    return False\n",
        "\n",
        "def tratandoString(nome):\n",
        "  separacao = nome.replace(\" \", '')\n",
        "  print(separacao)\n",
        "  return separacao\n"
      ],
      "metadata": {
        "id": "XjX51mze2DqW"
      },
      "execution_count": 60,
      "outputs": []
    },
    {
      "cell_type": "code",
      "source": [
        "tratandoString(f'Bundesliga Alemã')"
      ],
      "metadata": {
        "colab": {
          "base_uri": "https://localhost:8080/",
          "height": 53
        },
        "id": "BRebxNMA723C",
        "outputId": "f064bf48-ee10-45a5-bf77-06404800ed6f"
      },
      "execution_count": 38,
      "outputs": [
        {
          "output_type": "stream",
          "name": "stdout",
          "text": [
            "BundesligaAlemã\n"
          ]
        },
        {
          "output_type": "execute_result",
          "data": {
            "text/plain": [
              "'BundesligaAlemã'"
            ],
            "application/vnd.google.colaboratory.intrinsic+json": {
              "type": "string"
            }
          },
          "metadata": {},
          "execution_count": 38
        }
      ]
    },
    {
      "cell_type": "code",
      "source": [
        "#Colocando Torneio em Ordem Alfabética.\n",
        "\n",
        "torneioOrdem = sorted(torneios)\n",
        "listaTorneioEmOrdem = []\n",
        "\n",
        "for ord in torneioOrdem:\n",
        "  listaTorneioEmOrdem.append(ord)\n",
        "\n",
        "print(listaTorneioEmOrdem)"
      ],
      "metadata": {
        "colab": {
          "base_uri": "https://localhost:8080/"
        },
        "id": "wR02rjZUurxy",
        "outputId": "24ba12b1-7067-4993-a3c1-1de7d9ae4da9"
      },
      "execution_count": 5,
      "outputs": [
        {
          "output_type": "stream",
          "name": "stdout",
          "text": [
            "['Alemanha Supertaça', 'Amistoso de Elite', 'Brasileiro Série A', 'Brasileiro Série B', 'Bundesliga 2 Alemã', 'Bundesliga Alemã', 'CONMEBOL Libertadores', 'CONMEBOL Sudamericana', 'Campeonato Brasileiro', 'Capa do Mundo da FIFA Feminino', 'Copa Do Brasil', 'Copa da Alemanha', 'Copa da Itália', 'Copa do Nordeste', 'Escócia-Premiership', 'Espanha-La Liga', 'França-Ligue 1', 'Holanda-Eredivisie', 'Inglaterra Community Shield', 'Inglaterra Copa da Liga', 'Inglaterra Premier League', 'Itália Serie A', 'Itália Serie B', 'Itália-Série A', 'Liga Conferência Europa', 'Liga Profissional da Arábia Saudita', 'Portugal Supertaça', 'Portugal-Primeira Liga', 'Premier League', 'Torneio Não Listado', 'UEFA Champions League', 'UEFA Euro Eliminatórias', 'UEFA Europa Conference League', 'UEFA Europa Conference League Classificatórias', 'UEFA Liga Conferência Europa Classificatórias', 'UEFA Liga Das Nações', 'UEFA Liga Europa', 'UEFA Liga dos Campeões Eliminatórias', 'UEFA Supertaça']\n"
          ]
        }
      ]
    },
    {
      "cell_type": "code",
      "source": [
        "#Ajudando na Busca:\n",
        "\n",
        "# Nome a ser procurado\n",
        "nome_procurado = input(\"Digite o nome que deseja procurar: \")\n",
        "\n",
        "# Inicializar uma lista para armazenar os nomes correspondentes\n",
        "nomes_correspondentes = []\n",
        "\n",
        "# Verificar nomes que contêm a entrada do usuário\n",
        "for nome in listaTorneioEmOrdem:\n",
        "    if nome_procurado.lower() in nome.lower():\n",
        "        nomes_correspondentes.append(nome)\n",
        "\n",
        "# Exibir os nomes correspondentes\n",
        "\"\"\"\n",
        "Trabalhar para colocar uma numeração, onde digitando a numeração selecione o\n",
        "torneio correspondente\n",
        "\"\"\"\n",
        "escolhaPorNumeroLista = []\n",
        "if nomes_correspondentes:\n",
        "    print(\"Nomes correspondentes:\")\n",
        "    cont = 1\n",
        "    for nome in nomes_correspondentes:\n",
        "        print(f\"{cont} - {nome}\")\n",
        "        escolhaPorNumeroLista.append(nome)\n",
        "        cont += 1\n",
        "else:\n",
        "    print(\"Nenhum nome correspondente encontrado.\")"
      ],
      "metadata": {
        "colab": {
          "base_uri": "https://localhost:8080/"
        },
        "id": "Is7JcxVjxlaw",
        "outputId": "2c39b92f-f9ec-4c47-84a5-2db5aa8d4d5c"
      },
      "execution_count": 62,
      "outputs": [
        {
          "output_type": "stream",
          "name": "stdout",
          "text": [
            "Digite o nome que deseja procurar: bu\n",
            "Nomes correspondentes:\n",
            "1 - Bundesliga 2 Alemã\n",
            "2 - Bundesliga Alemã\n"
          ]
        }
      ]
    },
    {
      "cell_type": "code",
      "source": [
        "#Achando a lista de times correspondentes ao torneio:\n",
        "\n",
        "infoTorneio = int(input(\"Digite o numero relativo ao torneio desejado: \"))\n",
        "\n",
        "if incluso(escolhaPorNumeroLista[infoTorneio-1]) == True and escolhaPorNumeroLista[infoTorneio-1] == 'Bundesliga Alemã':\n",
        "  listando(BundesligaAlemã)\n",
        "else:\n",
        "  print(f\"{infoTorneio} não foi encontrado uma lista.\")"
      ],
      "metadata": {
        "colab": {
          "base_uri": "https://localhost:8080/"
        },
        "id": "EXJaPxrUJQzi",
        "outputId": "b1c2f678-22a6-4277-98ba-26b709f0f28a"
      },
      "execution_count": 65,
      "outputs": [
        {
          "output_type": "stream",
          "name": "stdout",
          "text": [
            "Digite o numero relativo ao torneio desejado: 2\n",
            "\n",
            ">>>Bundesliga Alemã foi encontrado uma lista.\n",
            "1 - Augsburg\n",
            "2 - Bayer Leverkusen\n",
            "3 - Bayern de Munique\n",
            "4 - Borussia Dortmund\n",
            "5 - Borussia Monchengladbach\n",
            "6 - Colônia\n",
            "7 - Eintracht Frankfurt\n",
            "8 - FC Heidenheim 1846\n",
            "9 - Freiburg\n",
            "10 - Hoffenheim\n",
            "11 - Mainz\n",
            "12 - RB Leipzig\n",
            "13 - SV Darmstadt 98\n",
            "14 - Union Berlin\n",
            "15 - VfB Stuttgart\n",
            "16 - VfL Bochum\n",
            "17 - Werder Bremen\n",
            "18 - Wolfsburg\n"
          ]
        }
      ]
    }
  ]
}